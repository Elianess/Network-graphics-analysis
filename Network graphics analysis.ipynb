{
 "cells": [
  {
   "cell_type": "code",
   "execution_count": 46,
   "id": "01abcbb5",
   "metadata": {},
   "outputs": [],
   "source": [
    "import pandas as pd\n",
    "import networkx as nx\n",
    "import matplotlib.pyplot as plt\n",
    "import numpy as np"
   ]
  },
  {
   "cell_type": "code",
   "execution_count": 51,
   "id": "4a261f54",
   "metadata": {},
   "outputs": [
    {
     "name": "stdout",
     "output_type": "stream",
     "text": [
      "продолжаем? (+ или -)+\n",
      "начало: 1\n",
      "конец: 2\n",
      "вес: 12\n",
      "продолжаем? (+ или -)+\n",
      "начало: 4\n",
      "конец: 5\n",
      "вес: 34\n",
      "продолжаем? (+ или -)+\n",
      "начало: 2\n",
      "конец: 3\n",
      "вес: 15\n",
      "продолжаем? (+ или -)+\n",
      "начало: 5\n",
      "конец: 6\n",
      "вес: 7\n",
      "продолжаем? (+ или -)+\n",
      "начало: 3\n",
      "конец: 6\n",
      "вес: 6\n",
      "продолжаем? (+ или -)+\n",
      "начало: 6\n",
      "конец: 7\n",
      "вес: 8\n",
      "продолжаем? (+ или -)+\n",
      "начало: 7\n",
      "конец: 8\n",
      "вес: 11\n",
      "продолжаем? (+ или -)+\n",
      "начало: 10\n",
      "конец: 11\n",
      "вес: 22\n",
      "продолжаем? (+ или -)+\n",
      "начало: 8\n",
      "конец: 9\n",
      "вес: 16\n",
      "продолжаем? (+ или -)+\n",
      "начало: 9\n",
      "конец: 12\n",
      "вес: 30\n",
      "продолжаем? (+ или -)+\n",
      "начало: 11\n",
      "конец: 12\n",
      "вес: 5\n",
      "продолжаем? (+ или -)-\n"
     ]
    },
    {
     "data": {
      "text/plain": [
       "{(1, 2): Text(0.6988653256379012, 0.3291718738121885, '12'),\n",
       " (2, 3): Text(0.5077679211208544, 0.22530602516526585, '15'),\n",
       " (4, 5): Text(0.5140044241776958, -0.027744456877318417, '34'),\n",
       " (5, 6): Text(0.2913267409908187, -0.02384777597307486, '7'),\n",
       " (3, 6): Text(0.277241503319329, 0.07397294920908958, '6'),\n",
       " (6, 7): Text(0.0058061749887517305, -0.06764859494619836, '8'),\n",
       " (7, 8): Text(-0.2669501875194751, -0.13374276017365527, '11'),\n",
       " (8, 9): Text(-0.5516956607941668, -0.18548476707644176, '16'),\n",
       " (10, 11): Text(-0.3715417037568659, 0.02404991343377612, '22'),\n",
       " (11, 12): Text(-0.7258498299438432, -0.17777706781337005, '5'),\n",
       " (9, 12): Text(-0.8516193618585848, -0.2657075194040803, '30')}"
      ]
     },
     "execution_count": 51,
     "metadata": {},
     "output_type": "execute_result"
    },
    {
     "data": {
      "image/png": "[encoded data removed]",
      "text/plain": [
       "<Figure size 432x288 with 1 Axes>"
      ]
     },
     "metadata": {},
     "output_type": "display_data"
    }
   ],
   "source": [
    "#Вводим ребра, веса, делаем граф короч\n",
    "\n",
    "G = nx.DiGraph() #создаем направленный граф\n",
    "q = '+'\n",
    "while q == '+': \n",
    "    q = input('продолжаем? (+ или -)')\n",
    "    if q == '+':\n",
    "        x = int(input('начало: ')) \n",
    "        y = int(input('конец: '))\n",
    "        z = int(input('вес: '))\n",
    "        \n",
    "\n",
    "    G.add_edge(x, y, weight = z) #создаем ребро по заданным данным\n",
    "\n",
    "#рисуем граф\n",
    "pos = nx.spring_layout(G)\n",
    "nx.draw_networkx(G, pos)\n",
    "nx.draw_networkx_edge_labels(G, \n",
    "                             pos = pos, \n",
    "                             edge_labels = nx.get_edge_attributes(G, 'weight'))"
   ]
  },
  {
   "cell_type": "code",
   "execution_count": 52,
   "id": "16fa29d1",
   "metadata": {},
   "outputs": [
    {
     "data": {
      "text/plain": [
       "{(1, 2): Text(0.6988653256379012, 0.3291718738121885, '12'),\n",
       " (2, 3): Text(0.5077679211208544, 0.22530602516526585, '15'),\n",
       " (4, 5): Text(0.5140044241776958, -0.027744456877318417, '34'),\n",
       " (5, 6): Text(0.2913267409908187, -0.02384777597307486, '7'),\n",
       " (3, 6): Text(0.277241503319329, 0.07397294920908958, '6'),\n",
       " (6, 7): Text(0.0058061749887517305, -0.06764859494619836, '8'),\n",
       " (7, 8): Text(-0.2669501875194751, -0.13374276017365527, '11'),\n",
       " (8, 9): Text(-0.5516956607941668, -0.18548476707644176, '16'),\n",
       " (10, 11): Text(-0.3715417037568659, 0.02404991343377612, '22'),\n",
       " (11, 12): Text(-0.7258498299438432, -0.17777706781337005, '5'),\n",
       " (9, 12): Text(-0.8516193618585848, -0.2657075194040803, '30')}"
      ]
     },
     "execution_count": 52,
     "metadata": {},
     "output_type": "execute_result"
    },
    {
     "data": {
      "image/png": "[encoded data removed]",
      "text/plain": [
       "<Figure size 432x288 with 1 Axes>"
      ]
     },
     "metadata": {},
     "output_type": "display_data"
    }
   ],
   "source": [
    "# pos = nx.circular_layout(G)\n",
    "nx.draw_networkx(G, pos)\n",
    "nx.draw_networkx_edge_labels(G, \n",
    "                             pos = pos, \n",
    "                             edge_labels = nx.get_edge_attributes(G, 'weight'))"
   ]
  },
  {
   "cell_type": "code",
   "execution_count": 53,
   "id": "30660a95",
   "metadata": {},
   "outputs": [
    {
     "data": {
      "text/plain": [
       "[(1, 2),\n",
       " (2, 3),\n",
       " (4, 5),\n",
       " (5, 6),\n",
       " (3, 6),\n",
       " (6, 7),\n",
       " (7, 8),\n",
       " (8, 9),\n",
       " (10, 11),\n",
       " (11, 12),\n",
       " (9, 12)]"
      ]
     },
     "execution_count": 53,
     "metadata": {},
     "output_type": "execute_result"
    }
   ],
   "source": [
    "#получившиеся ребра1\n",
    "\n",
    "s = [i for i in G.edges()]\n",
    "s"
   ]
  },
  {
   "cell_type": "markdown",
   "id": "6e3692f2",
   "metadata": {},
   "source": [
    "### Предшествующие работы"
   ]
  },
  {
   "cell_type": "code",
   "execution_count": 54,
   "id": "f1538252",
   "metadata": {
    "scrolled": false
   },
   "outputs": [
    {
     "data": {
      "text/plain": [
       "{(2, 3): [(1, 2)],\n",
       " (5, 6): [(4, 5)],\n",
       " (3, 6): [(2, 3)],\n",
       " (6, 7): [(5, 6), (3, 6)],\n",
       " (7, 8): [(6, 7)],\n",
       " (8, 9): [(7, 8)],\n",
       " (11, 12): [(10, 11)],\n",
       " (9, 12): [(8, 9)]}"
      ]
     },
     "execution_count": 54,
     "metadata": {},
     "output_type": "execute_result"
    }
   ],
   "source": [
    "d = dict()\n",
    "    \n",
    "for i in range(len(s)): #берем ребро i\n",
    "    for j in range(len(s)): #сверяем i со всеми ребрами (j)\n",
    "        if s[i][0] == s[j][1]: #если начало ребра i равно концу ребра j то проходит\n",
    "            \n",
    "            #заполняем словарь\n",
    "            try:\n",
    "                d[s[i]].append(s[j])\n",
    "            except KeyError:\n",
    "                d[s[i]] = [s[j]]\n",
    "                \n",
    "d"
   ]
  },
  {
   "cell_type": "code",
   "execution_count": 56,
   "id": "afcf8104",
   "metadata": {},
   "outputs": [
    {
     "data": {
      "text/plain": [
       "['-',\n",
       " [(1, 2)],\n",
       " '-',\n",
       " [(4, 5)],\n",
       " [(2, 3)],\n",
       " [(5, 6), (3, 6)],\n",
       " [(6, 7)],\n",
       " [(7, 8)],\n",
       " '-',\n",
       " [(10, 11)],\n",
       " [(8, 9)]]"
      ]
     },
     "execution_count": 56,
     "metadata": {},
     "output_type": "execute_result"
    }
   ],
   "source": [
    "#Делаем масссив с предшествующими работами\n",
    "pw = []\n",
    "\n",
    "for i in G.edges():\n",
    "    if i in d.keys():\n",
    "        pw.append(d[i])\n",
    "#         print(d[i])\n",
    "    else:\n",
    "        pw.append('-')\n",
    "#         print('-')\n",
    "        \n",
    "pw"
   ]
  },
  {
   "cell_type": "markdown",
   "id": "63ee70cb",
   "metadata": {},
   "source": [
    "###  Ранее начало"
   ]
  },
  {
   "cell_type": "code",
   "execution_count": 57,
   "id": "1d13f481",
   "metadata": {},
   "outputs": [
    {
     "data": {
      "text/plain": [
       "{(1, 2): 12,\n",
       " (2, 3): 15,\n",
       " (4, 5): 34,\n",
       " (5, 6): 7,\n",
       " (3, 6): 6,\n",
       " (6, 7): 8,\n",
       " (7, 8): 11,\n",
       " (8, 9): 16,\n",
       " (10, 11): 22,\n",
       " (11, 12): 5,\n",
       " (9, 12): 30}"
      ]
     },
     "execution_count": 57,
     "metadata": {},
     "output_type": "execute_result"
    }
   ],
   "source": [
    "#делаем список с ребрами и весами, чтобы удобно было смотерть веса ребер\n",
    "weight = nx.get_edge_attributes(G, 'weight')\n",
    "weight"
   ]
  },
  {
   "cell_type": "code",
   "execution_count": 58,
   "id": "8577a9b3",
   "metadata": {},
   "outputs": [],
   "source": [
    "weight_temp = weight.copy()\n",
    "# weight_temp"
   ]
  },
  {
   "cell_type": "markdown",
   "id": "79e3f796",
   "metadata": {},
   "source": [
    "# Почему-то следующую ячекйку нужно запускать, до тех пор пока не прекратятся изменения "
   ]
  },
  {
   "cell_type": "code",
   "execution_count": 69,
   "id": "0dd74c87",
   "metadata": {
    "scrolled": false
   },
   "outputs": [
    {
     "data": {
      "text/plain": [
       "{(1, 2): 0,\n",
       " (2, 3): 12,\n",
       " (4, 5): 0,\n",
       " (5, 6): 34,\n",
       " (3, 6): 27,\n",
       " (6, 7): 41,\n",
       " (7, 8): 49,\n",
       " (8, 9): 60,\n",
       " (10, 11): 0,\n",
       " (11, 12): 22,\n",
       " (9, 12): 76}"
      ]
     },
     "execution_count": 69,
     "metadata": {},
     "output_type": "execute_result"
    }
   ],
   "source": [
    "counter = -1 #для индекса ребер \n",
    "\n",
    "for i in pw:\n",
    "    counter +=1\n",
    "    \n",
    "    if i == '-':\n",
    "        weight_temp[list(G.edges())[counter]] = 0\n",
    "        \n",
    "    if i != '-': \n",
    "        #прверяющее ребро = вес предшествующей работы + РН предшеств. работы\n",
    "        weight_temp[list(G.edges())[counter]] = weight[i[0]] + weight_temp[pw[counter][0]] \n",
    "\n",
    "        #если несколько предшеств. работ\n",
    "        if len(i) > 1:\n",
    "#             print(i)\n",
    "            weight_temp[list(G.edges())[counter]] = 0 #чистим действующее ребро \n",
    "            \n",
    "            maxx = -1\n",
    "            for j in i: #проходимся по предшествующим работам по отдельности\n",
    "#                 print(j)\n",
    "\n",
    "                #ищем максимальный путь до проверяющего ребра\n",
    "                temp_sum = weight[j] + weight_temp[j]\n",
    "                if temp_sum > maxx:\n",
    "                    maxx = temp_sum\n",
    "#                     print(maxx)\n",
    "#             print(maxx)\n",
    "                \n",
    "            #присваиваем действующему ребру правильный РН\n",
    "            weight_temp[list(G.edges())[counter]] = maxx\n",
    "\n",
    "weight_temp"
   ]
  },
  {
   "cell_type": "markdown",
   "id": "fb972400",
   "metadata": {},
   "source": [
    "### Промежуточная Табличка"
   ]
  },
  {
   "cell_type": "code",
   "execution_count": 67,
   "id": "4fca6b22",
   "metadata": {
    "scrolled": false
   },
   "outputs": [
    {
     "data": {
      "text/html": [
       "<div>\n",
       "<style scoped>\n",
       "    .dataframe tbody tr th:only-of-type {\n",
       "        vertical-align: middle;\n",
       "    }\n",
       "\n",
       "    .dataframe tbody tr th {\n",
       "        vertical-align: top;\n",
       "    }\n",
       "\n",
       "    .dataframe thead th {\n",
       "        text-align: right;\n",
       "    }\n",
       "</style>\n",
       "<table border=\"1\" class=\"dataframe\">\n",
       "  <thead>\n",
       "    <tr style=\"text-align: right;\">\n",
       "      <th></th>\n",
       "      <th>работа</th>\n",
       "      <th>дни</th>\n",
       "      <th>предшеств. раб</th>\n",
       "      <th>Р.Н.</th>\n",
       "      <th>Р.О.</th>\n",
       "    </tr>\n",
       "  </thead>\n",
       "  <tbody>\n",
       "    <tr>\n",
       "      <th>0</th>\n",
       "      <td>(1, 2)</td>\n",
       "      <td>12</td>\n",
       "      <td>-</td>\n",
       "      <td>0</td>\n",
       "      <td>12</td>\n",
       "    </tr>\n",
       "    <tr>\n",
       "      <th>1</th>\n",
       "      <td>(2, 3)</td>\n",
       "      <td>15</td>\n",
       "      <td>[(1, 2)]</td>\n",
       "      <td>12</td>\n",
       "      <td>27</td>\n",
       "    </tr>\n",
       "    <tr>\n",
       "      <th>2</th>\n",
       "      <td>(4, 5)</td>\n",
       "      <td>34</td>\n",
       "      <td>-</td>\n",
       "      <td>0</td>\n",
       "      <td>34</td>\n",
       "    </tr>\n",
       "    <tr>\n",
       "      <th>3</th>\n",
       "      <td>(5, 6)</td>\n",
       "      <td>7</td>\n",
       "      <td>[(4, 5)]</td>\n",
       "      <td>34</td>\n",
       "      <td>41</td>\n",
       "    </tr>\n",
       "    <tr>\n",
       "      <th>4</th>\n",
       "      <td>(3, 6)</td>\n",
       "      <td>6</td>\n",
       "      <td>[(2, 3)]</td>\n",
       "      <td>27</td>\n",
       "      <td>33</td>\n",
       "    </tr>\n",
       "    <tr>\n",
       "      <th>5</th>\n",
       "      <td>(6, 7)</td>\n",
       "      <td>8</td>\n",
       "      <td>[(5, 6), (3, 6)]</td>\n",
       "      <td>41</td>\n",
       "      <td>49</td>\n",
       "    </tr>\n",
       "    <tr>\n",
       "      <th>6</th>\n",
       "      <td>(7, 8)</td>\n",
       "      <td>11</td>\n",
       "      <td>[(6, 7)]</td>\n",
       "      <td>49</td>\n",
       "      <td>60</td>\n",
       "    </tr>\n",
       "    <tr>\n",
       "      <th>7</th>\n",
       "      <td>(8, 9)</td>\n",
       "      <td>16</td>\n",
       "      <td>[(7, 8)]</td>\n",
       "      <td>60</td>\n",
       "      <td>76</td>\n",
       "    </tr>\n",
       "    <tr>\n",
       "      <th>8</th>\n",
       "      <td>(10, 11)</td>\n",
       "      <td>22</td>\n",
       "      <td>-</td>\n",
       "      <td>0</td>\n",
       "      <td>22</td>\n",
       "    </tr>\n",
       "    <tr>\n",
       "      <th>9</th>\n",
       "      <td>(11, 12)</td>\n",
       "      <td>5</td>\n",
       "      <td>[(10, 11)]</td>\n",
       "      <td>22</td>\n",
       "      <td>27</td>\n",
       "    </tr>\n",
       "    <tr>\n",
       "      <th>10</th>\n",
       "      <td>(9, 12)</td>\n",
       "      <td>30</td>\n",
       "      <td>[(8, 9)]</td>\n",
       "      <td>76</td>\n",
       "      <td>106</td>\n",
       "    </tr>\n",
       "  </tbody>\n",
       "</table>\n",
       "</div>"
      ],
      "text/plain": [
       "      работа  дни    предшеств. раб  Р.Н.  Р.О.\n",
       "0     (1, 2)   12                 -     0    12\n",
       "1     (2, 3)   15          [(1, 2)]    12    27\n",
       "2     (4, 5)   34                 -     0    34\n",
       "3     (5, 6)    7          [(4, 5)]    34    41\n",
       "4     (3, 6)    6          [(2, 3)]    27    33\n",
       "5     (6, 7)    8  [(5, 6), (3, 6)]    41    49\n",
       "6     (7, 8)   11          [(6, 7)]    49    60\n",
       "7     (8, 9)   16          [(7, 8)]    60    76\n",
       "8   (10, 11)   22                 -     0    22\n",
       "9   (11, 12)    5        [(10, 11)]    22    27\n",
       "10   (9, 12)   30          [(8, 9)]    76   106"
      ]
     },
     "execution_count": 67,
     "metadata": {},
     "output_type": "execute_result"
    }
   ],
   "source": [
    "edge_labels = nx.get_edge_attributes(G, 'weight')\n",
    "\n",
    "df = pd.DataFrame()\n",
    "\n",
    "df['работа'] = list(G.edges())\n",
    "df['дни'] = list(edge_labels.values())\n",
    "df['предшеств. раб'] = pw\n",
    "df['Р.Н.'] = weight_temp.values()\n",
    "df['Р.О.'] = df['дни'] + df['Р.Н.']\n",
    "\n",
    "df"
   ]
  },
  {
   "cell_type": "markdown",
   "id": "01dea24d",
   "metadata": {},
   "source": [
    "# ПН"
   ]
  },
  {
   "cell_type": "code",
   "execution_count": 61,
   "id": "1ca7732c",
   "metadata": {},
   "outputs": [
    {
     "data": {
      "text/plain": [
       "106"
      ]
     },
     "execution_count": 61,
     "metadata": {},
     "output_type": "execute_result"
    }
   ],
   "source": [
    "#находим максимальный элемент в РО, нужно нуже\n",
    "max_G = list(df['Р.О.'])\n",
    "max_PO = -1\n",
    "for i in max_G:\n",
    "#     print(i)\n",
    "    if i > max_PO:\n",
    "        max_PO = i \n",
    "        \n",
    "max_PO"
   ]
  },
  {
   "cell_type": "code",
   "execution_count": 62,
   "id": "b7bb577d",
   "metadata": {},
   "outputs": [
    {
     "data": {
      "text/plain": [
       "[(11, 12), (9, 12)]"
      ]
     },
     "execution_count": 62,
     "metadata": {},
     "output_type": "execute_result"
    }
   ],
   "source": [
    "#находим работы, которых нет в предшествующих, чтобы вычислить их ПН отдельно\n",
    "q=0\n",
    "not_pw = []\n",
    "for j in range(len(df['работа'])):\n",
    "    for i in df['предшеств. раб']:\n",
    "        if i == '-':\n",
    "            q+=1\n",
    "            continue\n",
    "        if df['работа'][j] not in i:\n",
    "            q+=1\n",
    "            if q==len(df['работа']):\n",
    "                not_pw.append(df['работа'][j])\n",
    "#     print(q)\n",
    "    q=0\n",
    "not_pw"
   ]
  },
  {
   "cell_type": "code",
   "execution_count": 63,
   "id": "fc1be3ac",
   "metadata": {},
   "outputs": [],
   "source": [
    "#делаем словарь для ПН\n",
    "PN_dict_pw ={}\n",
    "for i in s:\n",
    "    PN_dict_pw[i] = 0"
   ]
  },
  {
   "cell_type": "code",
   "execution_count": 64,
   "id": "7acb8215",
   "metadata": {},
   "outputs": [],
   "source": [
    "#вычисляем ПН для работ, которых нет в предшествующих\n",
    "for i in not_pw:\n",
    "    PN_dict_pw[i] = max_PO - weight[i]"
   ]
  },
  {
   "cell_type": "code",
   "execution_count": 95,
   "id": "a97600e9",
   "metadata": {},
   "outputs": [
    {
     "name": "stdout",
     "output_type": "stream",
     "text": [
      "[1, 2, 4, 5, 3, 6, 7, 8, 10, 11, 9]\n"
     ]
    }
   ],
   "source": [
    "#список с началом ребер со столбца работы, нужно ниже\n",
    "edges_temp = []\n",
    "for i in list(G.edges()):\n",
    "    edges_temp.append(i[0])\n",
    "print(edges_temp)"
   ]
  },
  {
   "cell_type": "code",
   "execution_count": 96,
   "id": "4a294d13",
   "metadata": {},
   "outputs": [
    {
     "data": {
      "text/plain": [
       "{(1, 2): 0,\n",
       " (2, 3): 0,\n",
       " (4, 5): 0,\n",
       " (5, 6): 0,\n",
       " (3, 6): 0,\n",
       " (6, 7): 0,\n",
       " (7, 8): 0,\n",
       " (8, 9): 0,\n",
       " (10, 11): 79,\n",
       " (11, 12): 101,\n",
       " (9, 12): 76}"
      ]
     },
     "execution_count": 96,
     "metadata": {},
     "output_type": "execute_result"
    }
   ],
   "source": [
    "PN_dict_pw"
   ]
  },
  {
   "cell_type": "code",
   "execution_count": 97,
   "id": "01e4079e",
   "metadata": {
    "scrolled": false
   },
   "outputs": [
    {
     "name": "stdout",
     "output_type": "stream",
     "text": [
      "начало ребра, со столбца работа:  11\n",
      "кол-во ребер с таким числом:  1\n",
      "[(11, 12)]\n",
      "рберо:  [(11, 12)]\n",
      "пред. раб.:  [(10, 11)]\n",
      "ПН (10, 11) :  79\n",
      "\n",
      "начало ребра, со столбца работа:  10\n",
      "кол-во ребер с таким числом:  1\n",
      "\n",
      "начало ребра, со столбца работа:  9\n",
      "кол-во ребер с таким числом:  1\n",
      "[(9, 12)]\n",
      "рберо:  [(9, 12)]\n",
      "пред. раб.:  [(8, 9)]\n",
      "ПН (8, 9) :  60\n",
      "\n",
      "начало ребра, со столбца работа:  8\n",
      "кол-во ребер с таким числом:  1\n",
      "[(8, 9)]\n",
      "рберо:  [(8, 9)]\n",
      "пред. раб.:  [(7, 8)]\n",
      "ПН (7, 8) :  49\n",
      "\n",
      "начало ребра, со столбца работа:  7\n",
      "кол-во ребер с таким числом:  1\n",
      "[(7, 8)]\n",
      "рберо:  [(7, 8)]\n",
      "пред. раб.:  [(6, 7)]\n",
      "ПН (6, 7) :  41\n",
      "\n",
      "начало ребра, со столбца работа:  6\n",
      "кол-во ребер с таким числом:  1\n",
      "[(6, 7)]\n",
      "рберо:  [(6, 7)]\n",
      "пред. раб.:  [(5, 6), (3, 6)]\n",
      "ПН (5, 6) :  34\n",
      "ПН (3, 6) :  35\n",
      "\n",
      "начало ребра, со столбца работа:  5\n",
      "кол-во ребер с таким числом:  1\n",
      "[(5, 6)]\n",
      "рберо:  [(5, 6)]\n",
      "пред. раб.:  [(4, 5)]\n",
      "ПН (4, 5) :  0\n",
      "\n",
      "начало ребра, со столбца работа:  4\n",
      "кол-во ребер с таким числом:  1\n",
      "\n",
      "начало ребра, со столбца работа:  3\n",
      "кол-во ребер с таким числом:  1\n",
      "[(3, 6)]\n",
      "рберо:  [(3, 6)]\n",
      "пред. раб.:  [(2, 3)]\n",
      "ПН (2, 3) :  20\n",
      "\n",
      "начало ребра, со столбца работа:  2\n",
      "кол-во ребер с таким числом:  1\n",
      "[(2, 3)]\n",
      "рберо:  [(2, 3)]\n",
      "пред. раб.:  [(1, 2)]\n",
      "ПН (1, 2) :  8\n",
      "\n",
      "начало ребра, со столбца работа:  1\n",
      "кол-во ребер с таким числом:  1\n",
      "\n"
     ]
    }
   ],
   "source": [
    "while len(edges_temp) > 0: #пока список не пустой\n",
    "    #ищем максимум, чтобы идти с конца\n",
    "    max_pn = -1\n",
    "    for i in edges_temp:\n",
    "        if i > max_pn:\n",
    "            max_pn = i\n",
    "    print('начало ребра, со столбца работа: ', max_pn)\n",
    "    \n",
    "    #нужно ниже\n",
    "    co = 0\n",
    "    for i in edges_temp:\n",
    "        if i == max_pn:\n",
    "            co +=1\n",
    "    print('кол-во ребер с таким числом: ', co)#нужно ниже\n",
    "\n",
    "    conter_edges = []\n",
    "    for i in PN_dict_pw: #проходимся по ребрам ПН\n",
    "         if i[0] == max_pn: #находим ребра начинающиеся с max_pn\n",
    "            conter_edges.append(i) # тут расшифрованное ребро\n",
    "            if conter_edges[0] not in d.keys():\n",
    "                    continue\n",
    "            print(conter_edges)\n",
    "            if co == 1: #если ребро одно, то\n",
    "                print('рберо: ', conter_edges)\n",
    "                print('пред. раб.: ', d[conter_edges[0]]) #предшествующие работы этого ребра\n",
    "                for j in d[conter_edges[0]]: #проходимся по предшествующим работам ребра\n",
    "                    PN_dict_pw[j] = PN_dict_pw[i] - weight[j] #вычисляем ПН\n",
    "                    print('ПН', j,': ', PN_dict_pw[j])\n",
    "                    \n",
    "            else:\n",
    "                min_for_temp_pn = 9999999 #для поиска минимального ПН\n",
    "                if len(conter_edges) == co: #если кол-во ребер максимальное(чтобы были все сразу, иначе выводится пирамидкой, добавляясь по одной)\n",
    "                    print('рбера: ', conter_edges)\n",
    "                    for q in conter_edges: #проходимся по всем ребрам этого 'co'\n",
    "                        #находим минимальный ПН\n",
    "                        if PN_dict_pw[q] < min_for_temp_pn: \n",
    "                            min_for_temp_pn = PN_dict_pw[q]\n",
    "                    if q == '-':\n",
    "                        continue\n",
    "                    print('пред. раб.: ', d[q])\n",
    "                    for l in d[q]: #проходимся по предшествующим работам\n",
    "                        PN_dict_pw[l] = min_for_temp_pn - weight[l] #вычисляем ПН \n",
    "                        print('ПН', l,': ', PN_dict_pw[l])\n",
    "                    print(min_for_temp_pn)\n",
    "\n",
    "    #удаляем дубликаты одного чила\n",
    "    for i in edges_temp:\n",
    "        if i == max_pn:\n",
    "            edges_temp.remove(i)\n",
    "    \n",
    "    #когда ребер больше 1, то не удалялся последний, убираем и его\n",
    "    if max_pn in edges_temp:\n",
    "        edges_temp.remove(max_pn)\n",
    "#     print(edges_temp)\n",
    "    print()"
   ]
  },
  {
   "cell_type": "markdown",
   "id": "cd1d54d5",
   "metadata": {},
   "source": [
    "# Таблица"
   ]
  },
  {
   "cell_type": "code",
   "execution_count": 98,
   "id": "b8250cb9",
   "metadata": {},
   "outputs": [
    {
     "data": {
      "text/html": [
       "<div>\n",
       "<style scoped>\n",
       "    .dataframe tbody tr th:only-of-type {\n",
       "        vertical-align: middle;\n",
       "    }\n",
       "\n",
       "    .dataframe tbody tr th {\n",
       "        vertical-align: top;\n",
       "    }\n",
       "\n",
       "    .dataframe thead th {\n",
       "        text-align: right;\n",
       "    }\n",
       "</style>\n",
       "<table border=\"1\" class=\"dataframe\">\n",
       "  <thead>\n",
       "    <tr style=\"text-align: right;\">\n",
       "      <th></th>\n",
       "      <th>работа</th>\n",
       "      <th>дни</th>\n",
       "      <th>предшеств. раб</th>\n",
       "      <th>Р.Н.</th>\n",
       "      <th>Р.О.</th>\n",
       "      <th>П.Н.</th>\n",
       "      <th>П.О.</th>\n",
       "      <th>Резерв</th>\n",
       "    </tr>\n",
       "  </thead>\n",
       "  <tbody>\n",
       "    <tr>\n",
       "      <th>0</th>\n",
       "      <td>(1, 2)</td>\n",
       "      <td>12</td>\n",
       "      <td>-</td>\n",
       "      <td>0</td>\n",
       "      <td>12</td>\n",
       "      <td>8</td>\n",
       "      <td>20</td>\n",
       "      <td>8</td>\n",
       "    </tr>\n",
       "    <tr>\n",
       "      <th>1</th>\n",
       "      <td>(2, 3)</td>\n",
       "      <td>15</td>\n",
       "      <td>[(1, 2)]</td>\n",
       "      <td>12</td>\n",
       "      <td>27</td>\n",
       "      <td>20</td>\n",
       "      <td>35</td>\n",
       "      <td>8</td>\n",
       "    </tr>\n",
       "    <tr>\n",
       "      <th>2</th>\n",
       "      <td>(4, 5)</td>\n",
       "      <td>34</td>\n",
       "      <td>-</td>\n",
       "      <td>0</td>\n",
       "      <td>34</td>\n",
       "      <td>0</td>\n",
       "      <td>34</td>\n",
       "      <td>0</td>\n",
       "    </tr>\n",
       "    <tr>\n",
       "      <th>3</th>\n",
       "      <td>(5, 6)</td>\n",
       "      <td>7</td>\n",
       "      <td>[(4, 5)]</td>\n",
       "      <td>34</td>\n",
       "      <td>41</td>\n",
       "      <td>34</td>\n",
       "      <td>41</td>\n",
       "      <td>0</td>\n",
       "    </tr>\n",
       "    <tr>\n",
       "      <th>4</th>\n",
       "      <td>(3, 6)</td>\n",
       "      <td>6</td>\n",
       "      <td>[(2, 3)]</td>\n",
       "      <td>27</td>\n",
       "      <td>33</td>\n",
       "      <td>35</td>\n",
       "      <td>41</td>\n",
       "      <td>8</td>\n",
       "    </tr>\n",
       "    <tr>\n",
       "      <th>5</th>\n",
       "      <td>(6, 7)</td>\n",
       "      <td>8</td>\n",
       "      <td>[(5, 6), (3, 6)]</td>\n",
       "      <td>41</td>\n",
       "      <td>49</td>\n",
       "      <td>41</td>\n",
       "      <td>49</td>\n",
       "      <td>0</td>\n",
       "    </tr>\n",
       "    <tr>\n",
       "      <th>6</th>\n",
       "      <td>(7, 8)</td>\n",
       "      <td>11</td>\n",
       "      <td>[(6, 7)]</td>\n",
       "      <td>49</td>\n",
       "      <td>60</td>\n",
       "      <td>49</td>\n",
       "      <td>60</td>\n",
       "      <td>0</td>\n",
       "    </tr>\n",
       "    <tr>\n",
       "      <th>7</th>\n",
       "      <td>(8, 9)</td>\n",
       "      <td>16</td>\n",
       "      <td>[(7, 8)]</td>\n",
       "      <td>60</td>\n",
       "      <td>76</td>\n",
       "      <td>60</td>\n",
       "      <td>76</td>\n",
       "      <td>0</td>\n",
       "    </tr>\n",
       "    <tr>\n",
       "      <th>8</th>\n",
       "      <td>(10, 11)</td>\n",
       "      <td>22</td>\n",
       "      <td>-</td>\n",
       "      <td>0</td>\n",
       "      <td>22</td>\n",
       "      <td>79</td>\n",
       "      <td>101</td>\n",
       "      <td>79</td>\n",
       "    </tr>\n",
       "    <tr>\n",
       "      <th>9</th>\n",
       "      <td>(11, 12)</td>\n",
       "      <td>5</td>\n",
       "      <td>[(10, 11)]</td>\n",
       "      <td>22</td>\n",
       "      <td>27</td>\n",
       "      <td>101</td>\n",
       "      <td>106</td>\n",
       "      <td>79</td>\n",
       "    </tr>\n",
       "    <tr>\n",
       "      <th>10</th>\n",
       "      <td>(9, 12)</td>\n",
       "      <td>30</td>\n",
       "      <td>[(8, 9)]</td>\n",
       "      <td>76</td>\n",
       "      <td>106</td>\n",
       "      <td>76</td>\n",
       "      <td>106</td>\n",
       "      <td>0</td>\n",
       "    </tr>\n",
       "  </tbody>\n",
       "</table>\n",
       "</div>"
      ],
      "text/plain": [
       "      работа  дни    предшеств. раб  Р.Н.  Р.О.  П.Н.  П.О.  Резерв\n",
       "0     (1, 2)   12                 -     0    12     8    20       8\n",
       "1     (2, 3)   15          [(1, 2)]    12    27    20    35       8\n",
       "2     (4, 5)   34                 -     0    34     0    34       0\n",
       "3     (5, 6)    7          [(4, 5)]    34    41    34    41       0\n",
       "4     (3, 6)    6          [(2, 3)]    27    33    35    41       8\n",
       "5     (6, 7)    8  [(5, 6), (3, 6)]    41    49    41    49       0\n",
       "6     (7, 8)   11          [(6, 7)]    49    60    49    60       0\n",
       "7     (8, 9)   16          [(7, 8)]    60    76    60    76       0\n",
       "8   (10, 11)   22                 -     0    22    79   101      79\n",
       "9   (11, 12)    5        [(10, 11)]    22    27   101   106      79\n",
       "10   (9, 12)   30          [(8, 9)]    76   106    76   106       0"
      ]
     },
     "execution_count": 98,
     "metadata": {},
     "output_type": "execute_result"
    }
   ],
   "source": [
    "df['П.Н.'] = PN_dict_pw.values()\n",
    "df['П.О.'] = df['П.Н.'] + df['дни']\n",
    "df['Резерв'] = df['П.Н.'] - df['Р.Н.']\n",
    "df"
   ]
  }
 ],
 "metadata": {
  "kernelspec": {
   "display_name": "Python 3 (ipykernel)",
   "language": "python",
   "name": "python3"
  },
  "language_info": {
   "codemirror_mode": {
    "name": "ipython",
    "version": 3
   },
   "file_extension": ".py",
   "mimetype": "text/x-python",
   "name": "python",
   "nbconvert_exporter": "python",
   "pygments_lexer": "ipython3",
   "version": "3.9.13"
  }
 },
 "nbformat": 4,
 "nbformat_minor": 5
}
